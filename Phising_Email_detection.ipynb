{
  "cells": [
    {
      "cell_type": "code",
      "execution_count": 1,
      "metadata": {
        "id": "9hvBcjnuiuZP"
      },
      "outputs": [],
      "source": [
        "import pandas as pd\n",
        "import numpy as np\n",
        "import matplotlib.pyplot as plt\n",
        "from sklearn.preprocessing import LabelEncoder\n",
        "from sklearn.metrics import classification_report\n",
        "from sklearn.model_selection import train_test_split\n",
        "from keras.preprocessing.text import Tokenizer\n",
        "from keras.preprocessing.sequence import pad_sequences\n",
        "from keras.metrics import Precision, Recall, F1Score\n",
        "from keras.models import Sequential\n",
        "from keras.optimizers import Adam\n",
        "from keras.layers import LSTM, Dense, Embedding\n",
        "import seaborn as sns"
      ]
    },
    {
      "cell_type": "markdown",
      "metadata": {
        "id": "cgF8jJ2-AheT"
      },
      "source": [
        "chuẩn bị dữ liệu"
      ]
    },
    {
      "cell_type": "code",
      "execution_count": null,
      "metadata": {
        "id": "GHlc_l99kOFH"
      },
      "outputs": [],
      "source": [
        "# tham số index_col chỉ định cột sử dụng làm chỉ mục cho bảng\n",
        "df = pd.read_csv('Phishing_Email.csv', index_col = [0])"
      ]
    },
    {
      "cell_type": "code",
      "execution_count": null,
      "metadata": {
        "colab": {
          "base_uri": "https://localhost:8080/",
          "height": 206
        },
        "id": "wdW0KW9UkUcn",
        "outputId": "77b52908-96d6-4aab-b67a-9daa846acfe3"
      },
      "outputs": [],
      "source": [
        "df.head()"
      ]
    },
    {
      "cell_type": "code",
      "execution_count": null,
      "metadata": {
        "colab": {
          "base_uri": "https://localhost:8080/"
        },
        "id": "kfR87qjNkgU5",
        "outputId": "52709f6c-36bc-4a6e-f73c-453a07cbc682"
      },
      "outputs": [
        {
          "name": "stdout",
          "output_type": "stream",
          "text": [
            "<class 'pandas.core.frame.DataFrame'>\n",
            "Int64Index: 18650 entries, 0 to 18650\n",
            "Data columns (total 2 columns):\n",
            " #   Column      Non-Null Count  Dtype \n",
            "---  ------      --------------  ----- \n",
            " 0   Email Text  18634 non-null  object\n",
            " 1   Email Type  18650 non-null  object\n",
            "dtypes: object(2)\n",
            "memory usage: 437.1+ KB\n"
          ]
        }
      ],
      "source": [
        "df.info()"
      ]
    },
    {
      "cell_type": "code",
      "execution_count": null,
      "metadata": {
        "colab": {
          "base_uri": "https://localhost:8080/"
        },
        "id": "RAIGsBOUmXLN",
        "outputId": "484864b4-f640-43c4-e71a-d05ffb8350ab"
      },
      "outputs": [
        {
          "name": "stdout",
          "output_type": "stream",
          "text": [
            "Email Text    16\n",
            "Email Type     0\n",
            "dtype: int64\n"
          ]
        }
      ],
      "source": [
        "# hàm isna() tạo ra 1 dataframe kích thước giống bảng ban đầu nhưng chỉ chứa các\n",
        "# giá trị True (giá trị NaN) hoặc False (không phải NaN)\n",
        "print(df.isna().sum())"
      ]
    },
    {
      "cell_type": "code",
      "execution_count": null,
      "metadata": {
        "colab": {
          "base_uri": "https://localhost:8080/"
        },
        "id": "nKB2Tp0vm6Cd",
        "outputId": "693ccf30-1bb3-4cd9-ba6b-c3ccd982ae37"
      },
      "outputs": [
        {
          "name": "stdout",
          "output_type": "stream",
          "text": [
            "1111\n"
          ]
        }
      ],
      "source": [
        "# kiểm tra xem có hàng nào bị trùng lặp hay không\n",
        "print(df.duplicated().sum())"
      ]
    },
    {
      "cell_type": "code",
      "execution_count": null,
      "metadata": {
        "id": "35KrNb8TngFn"
      },
      "outputs": [],
      "source": [
        "# loại bỏ các hàng có giá trị NaN\n",
        "df.dropna(inplace=True)\n",
        "\n",
        "# loại bỏ các hàng có giá trị trùng lặp\n",
        "df.drop_duplicates(inplace=True)"
      ]
    },
    {
      "cell_type": "code",
      "execution_count": null,
      "metadata": {
        "colab": {
          "base_uri": "https://localhost:8080/",
          "height": 489
        },
        "id": "n4TjtAaSKemj",
        "outputId": "62e27571-a641-4795-ad4e-d3396fccebaa"
      },
      "outputs": [
        {
          "data": {
            "text/plain": [
              "Text(0.5, 1.0, 'Number of Phishing email and Safe email messages')"
            ]
          },
          "execution_count": 22,
          "metadata": {},
          "output_type": "execute_result"
        },
        {
          "data": {
            "image/png": "[encoded data removed]",
            "text/plain": [
              "<Figure size 640x480 with 1 Axes>"
            ]
          },
          "metadata": {},
          "output_type": "display_data"
        }
      ],
      "source": [
        "sns.countplot(data=df, x='Email Type')\n",
        "plt.xlabel('Email Type')\n",
        "plt.title('Number of Phishing email and Safe email messages')"
      ]
    },
    {
      "cell_type": "code",
      "execution_count": null,
      "metadata": {
        "id": "J7Oyi8Gunwhf"
      },
      "outputs": [],
      "source": [
        "x = df['Email Text']\n",
        "y = df['Email Type']"
      ]
    },
    {
      "cell_type": "code",
      "execution_count": null,
      "metadata": {
        "id": "sVFv2Q2GFce1"
      },
      "outputs": [],
      "source": [
        "le = LabelEncoder()\n",
        "\n",
        "# y = 1 nếu safe email\n",
        "# y = 0 nếu phising email\n",
        "y = le.fit_transform(y)\n",
        "\n",
        "# biến y từ mảng 1D thành vector cột 2D\n",
        "y = y.reshape(-1, 1)"
      ]
    },
    {
      "cell_type": "code",
      "execution_count": null,
      "metadata": {
        "colab": {
          "base_uri": "https://localhost:8080/"
        },
        "id": "zTFzCYPCHmK_",
        "outputId": "fdac9dab-d03a-45b3-8893-5aab587e0816"
      },
      "outputs": [
        {
          "data": {
            "text/plain": [
              "(17538, 1)"
            ]
          },
          "execution_count": 18,
          "metadata": {},
          "output_type": "execute_result"
        }
      ],
      "source": [
        "y.shape"
      ]
    },
    {
      "cell_type": "code",
      "execution_count": null,
      "metadata": {
        "id": "hlCF96qZrWPH"
      },
      "outputs": [],
      "source": [
        "# chia dataset thành train/val/test set với tỉ lệ 0.6/0.2/0.2\n",
        "x_train, x_untrained, y_train, y_untrained = train_test_split(x, y, test_size = 0.4, random_state = 10)\n",
        "x_val, x_test, y_val, y_test = train_test_split(x_untrained, y_untrained, test_size = 0.5, random_state = 10)"
      ]
    },
    {
      "cell_type": "code",
      "execution_count": null,
      "metadata": {
        "id": "ydEL0MGNxVBS"
      },
      "outputs": [],
      "source": [
        "max_words = 10000\n",
        "max_len = 150\n",
        "tok = Tokenizer(num_words = max_words)\n",
        "\n",
        "# fit_on_texts: tạo ra 1 từ vựng từ training_set với kích thước max_words\n",
        "# texts_to_sequences: chuyển đổi mỗi từ trong câu thành 1 số nguyên dựa trên từ vựng\n",
        "# pad_sequences: cắt bớt hoặc chèn thêm 0 vào mỗi vector từ để được kích thước max_len\n",
        "tok.fit_on_texts(x_train)\n",
        "sequences = tok.texts_to_sequences(x_train)\n",
        "sequences_matrix = pad_sequences(sequences, maxlen = max_len)\n",
        "\n",
        "val_sequences = tok.texts_to_sequences(x_val)\n",
        "val_sequences_matrix = pad_sequences(val_sequences, maxlen = max_len)\n",
        "\n",
        "test_sequences = tok.texts_to_sequences(x_test)\n",
        "test_sequences_matrix = pad_sequences(test_sequences, maxlen = max_len)"
      ]
    },
    {
      "cell_type": "code",
      "execution_count": null,
      "metadata": {
        "colab": {
          "base_uri": "https://localhost:8080/"
        },
        "id": "VI9-WSkhQWPX",
        "outputId": "490883e2-6c49-419c-affd-a8c3d1bd6b77"
      },
      "outputs": [
        {
          "name": "stdout",
          "output_type": "stream",
          "text": [
            "[676, 415, 3772, 332, 48, 764, 22, 2409, 207, 207, 207, 207, 207, 13, 61, 9, 420, 165, 3178, 462, 16, 27, 682, 146, 83, 2, 15, 678, 22, 39, 1583, 72, 13, 620, 81, 66, 9, 842, 27, 960, 770, 2, 1584, 1368, 35, 960, 30, 620, 476, 235, 72, 476, 187, 439, 81, 692, 187, 439, 81, 187, 231, 476]\n"
          ]
        }
      ],
      "source": [
        "print(sequences[0])"
      ]
    },
    {
      "cell_type": "code",
      "execution_count": null,
      "metadata": {
        "colab": {
          "base_uri": "https://localhost:8080/"
        },
        "id": "FBOCSixf8aY-",
        "outputId": "be3c1103-f0b1-41f8-8b3c-c7eddd1f89ff"
      },
      "outputs": [
        {
          "data": {
            "text/plain": [
              "array([[   0,    0,    0, ...,  187,  231,  476],\n",
              "       [   0,    0,    0, ...,   35,   30,  185],\n",
              "       [   0,    0,    0, ...,  231,  334, 2592],\n",
              "       ...,\n",
              "       [   0,    0,    0, ...,  575, 1335, 2044],\n",
              "       [   0,    0,    0, ...,   66, 7648,   81],\n",
              "       [   0,    0,    0, ..., 2042,   35,   30]], dtype=int32)"
            ]
          },
          "execution_count": 34,
          "metadata": {},
          "output_type": "execute_result"
        }
      ],
      "source": [
        "sequences_matrix"
      ]
    },
    {
      "cell_type": "code",
      "execution_count": null,
      "metadata": {
        "colab": {
          "base_uri": "https://localhost:8080/"
        },
        "id": "YDtlI2O_MShi",
        "outputId": "42ca1618-bad3-458d-d8b1-dbee1b0fab4a"
      },
      "outputs": [
        {
          "data": {
            "text/plain": [
              "((10522, 150), (3508, 150), (3508, 150))"
            ]
          },
          "execution_count": 35,
          "metadata": {},
          "output_type": "execute_result"
        }
      ],
      "source": [
        "sequences_matrix.shape, val_sequences_matrix.shape, test_sequences_matrix.shape"
      ]
    },
    {
      "cell_type": "markdown",
      "metadata": {
        "id": "_9ovB7I6An7I"
      },
      "source": [
        "xây dựng mô hình"
      ]
    },
    {
      "cell_type": "code",
      "execution_count": null,
      "metadata": {
        "colab": {
          "base_uri": "https://localhost:8080/"
        },
        "id": "_YpOsZ48Ad0v",
        "outputId": "fe815f4d-144f-469c-bfea-e99862b76dea"
      },
      "outputs": [
        {
          "name": "stderr",
          "output_type": "stream",
          "text": [
            "WARNING:tensorflow:Layer lstm_1 will not use cuDNN kernels since it doesn't meet the criteria. It will use a generic GPU kernel as fallback when running on GPU.\n"
          ]
        }
      ],
      "source": [
        "model = Sequential()\n",
        "\n",
        "# Embedding(input_dim, output_dim)\n",
        "# input_dim: kích thước của từ vựng\n",
        "# output_dim: kích thước vector embedding\n",
        "model.add(Embedding(10000, 32))\n",
        "\n",
        "# LSTM(unit, activation)\n",
        "# unit: số chiều của vector đầu ra\n",
        "# activation: hàm kích hoạt\n",
        "model.add(LSTM(32, activation = 'sigmoid'))\n",
        "\n",
        "# Dense(unit, activation)\n",
        "# unit: kích thước vector đầu ra\n",
        "# activation: hàm kích hoạt\n",
        "model.add(Dense(1, activation = 'sigmoid'))"
      ]
    },
    {
      "cell_type": "code",
      "execution_count": null,
      "metadata": {
        "colab": {
          "base_uri": "https://localhost:8080/"
        },
        "id": "AY380FEBGTmy",
        "outputId": "dd6f030b-c9f8-4a5e-a8ec-84dc82d770ee"
      },
      "outputs": [
        {
          "name": "stdout",
          "output_type": "stream",
          "text": [
            "Model: \"sequential\"\n",
            "_________________________________________________________________\n",
            " Layer (type)                Output Shape              Param #   \n",
            "=================================================================\n",
            " embedding_8 (Embedding)     (None, None, 32)          320000    \n",
            "                                                                 \n",
            " lstm_1 (LSTM)               (None, 32)                8320      \n",
            "                                                                 \n",
            " dense (Dense)               (None, 1)                 33        \n",
            "                                                                 \n",
            "=================================================================\n",
            "Total params: 328353 (1.25 MB)\n",
            "Trainable params: 328353 (1.25 MB)\n",
            "Non-trainable params: 0 (0.00 Byte)\n",
            "_________________________________________________________________\n"
          ]
        }
      ],
      "source": [
        "model.summary()"
      ]
    },
    {
      "cell_type": "code",
      "execution_count": null,
      "metadata": {
        "id": "4QuxYxShFV9x"
      },
      "outputs": [],
      "source": [
        "optimizer = Adam(learning_rate = 1e-3)"
      ]
    },
    {
      "cell_type": "code",
      "execution_count": null,
      "metadata": {
        "id": "4aQtfJuwC_2y"
      },
      "outputs": [],
      "source": [
        "# sử dụng binary_cross_entropy_loss\n",
        "# hàm tối ưu Adam\n",
        "model.compile(optimizer = optimizer, loss = 'binary_crossentropy', metrics = ['accuracy', Precision(), Recall()])"
      ]
    },
    {
      "cell_type": "markdown",
      "metadata": {
        "id": "T-dbG3bCD5-t"
      },
      "source": [
        "huấn luyện mô hình"
      ]
    },
    {
      "cell_type": "code",
      "execution_count": null,
      "metadata": {
        "colab": {
          "base_uri": "https://localhost:8080/"
        },
        "id": "T8-fRKEbD5Wr",
        "outputId": "f447ca81-5db4-4f78-9c3b-6f8aa5618c07"
      },
      "outputs": [
        {
          "name": "stdout",
          "output_type": "stream",
          "text": [
            "Epoch 1/15\n",
            "83/83 [==============================] - 47s 429ms/step - loss: 0.6470 - accuracy: 0.6220 - precision: 0.6220 - recall: 1.0000 - val_loss: 0.5925 - val_accuracy: 0.6465 - val_precision: 0.6448 - val_recall: 1.0000\n",
            "Epoch 2/15\n",
            "83/83 [==============================] - 33s 400ms/step - loss: 0.4716 - accuracy: 0.7847 - precision: 0.7552 - recall: 0.9676 - val_loss: 0.3115 - val_accuracy: 0.8900 - val_precision: 0.9331 - val_recall: 0.8925\n",
            "Epoch 3/15\n",
            "83/83 [==============================] - 31s 371ms/step - loss: 0.1665 - accuracy: 0.9483 - precision: 0.9600 - recall: 0.9568 - val_loss: 0.1414 - val_accuracy: 0.9524 - val_precision: 0.9550 - val_recall: 0.9716\n",
            "Epoch 4/15\n",
            "83/83 [==============================] - 30s 359ms/step - loss: 0.0927 - accuracy: 0.9732 - precision: 0.9841 - recall: 0.9727 - val_loss: 0.1225 - val_accuracy: 0.9587 - val_precision: 0.9799 - val_recall: 0.9551\n",
            "Epoch 5/15\n",
            "83/83 [==============================] - 29s 345ms/step - loss: 0.0602 - accuracy: 0.9854 - precision: 0.9929 - recall: 0.9835 - val_loss: 0.1120 - val_accuracy: 0.9618 - val_precision: 0.9719 - val_recall: 0.9685\n",
            "Epoch 6/15\n",
            "83/83 [==============================] - 28s 336ms/step - loss: 0.0428 - accuracy: 0.9900 - precision: 0.9968 - recall: 0.9872 - val_loss: 0.1081 - val_accuracy: 0.9629 - val_precision: 0.9749 - val_recall: 0.9671\n",
            "Epoch 7/15\n",
            "83/83 [==============================] - 28s 342ms/step - loss: 0.0305 - accuracy: 0.9938 - precision: 0.9982 - recall: 0.9919 - val_loss: 0.1072 - val_accuracy: 0.9647 - val_precision: 0.9741 - val_recall: 0.9707\n",
            "Epoch 8/15\n",
            "83/83 [==============================] - 26s 316ms/step - loss: 0.0239 - accuracy: 0.9950 - precision: 0.9980 - recall: 0.9939 - val_loss: 0.1077 - val_accuracy: 0.9635 - val_precision: 0.9779 - val_recall: 0.9649\n",
            "Epoch 9/15\n",
            "83/83 [==============================] - 35s 426ms/step - loss: 0.0202 - accuracy: 0.9958 - precision: 0.9985 - recall: 0.9948 - val_loss: 0.1098 - val_accuracy: 0.9624 - val_precision: 0.9707 - val_recall: 0.9707\n",
            "Epoch 10/15\n",
            "83/83 [==============================] - 27s 313ms/step - loss: 0.0154 - accuracy: 0.9973 - precision: 0.9986 - recall: 0.9971 - val_loss: 0.1143 - val_accuracy: 0.9629 - val_precision: 0.9758 - val_recall: 0.9662\n",
            "Epoch 11/15\n",
            "83/83 [==============================] - 26s 318ms/step - loss: 0.0110 - accuracy: 0.9984 - precision: 0.9997 - recall: 0.9977 - val_loss: 0.1160 - val_accuracy: 0.9649 - val_precision: 0.9758 - val_recall: 0.9693\n",
            "Epoch 12/15\n",
            "83/83 [==============================] - 26s 312ms/step - loss: 0.0089 - accuracy: 0.9987 - precision: 0.9997 - recall: 0.9982 - val_loss: 0.1191 - val_accuracy: 0.9644 - val_precision: 0.9763 - val_recall: 0.9680\n",
            "Epoch 13/15\n",
            "83/83 [==============================] - 25s 300ms/step - loss: 0.0073 - accuracy: 0.9990 - precision: 0.9998 - recall: 0.9985 - val_loss: 0.1196 - val_accuracy: 0.9655 - val_precision: 0.9746 - val_recall: 0.9716\n",
            "Epoch 14/15\n",
            "83/83 [==============================] - 25s 298ms/step - loss: 0.0202 - accuracy: 0.9945 - precision: 0.9960 - recall: 0.9951 - val_loss: 0.1425 - val_accuracy: 0.9541 - val_precision: 0.9640 - val_recall: 0.9645\n",
            "Epoch 15/15\n",
            "83/83 [==============================] - 25s 296ms/step - loss: 0.0171 - accuracy: 0.9951 - precision: 0.9959 - recall: 0.9962 - val_loss: 0.1340 - val_accuracy: 0.9587 - val_precision: 0.9773 - val_recall: 0.9578\n"
          ]
        }
      ],
      "source": [
        "history = model.fit(sequences_matrix, y_train, epochs=15, batch_size=128, validation_data = (val_sequences_matrix, y_val))"
      ]
    },
    {
      "cell_type": "code",
      "execution_count": null,
      "metadata": {
        "colab": {
          "base_uri": "https://localhost:8080/"
        },
        "id": "wq7naGmXKv6q",
        "outputId": "11dd305f-bf6c-405e-ce1f-c87ac04fa5c1"
      },
      "outputs": [
        {
          "name": "stdout",
          "output_type": "stream",
          "text": [
            "110/110 [==============================] - 3s 27ms/step - loss: 0.1357 - accuracy: 0.9618 - precision: 0.9767 - recall: 0.9615\n",
            "Model Loss: 0.13571755588054657\n",
            "Model Accuracy: 96.18015885353088\n"
          ]
        }
      ],
      "source": [
        "# mặc định batch_size của evaluate là 32\n",
        "results = model.evaluate(test_sequences_matrix, y_test)\n",
        "loss = results[0]\n",
        "accuracy = results[1]\n",
        "\n",
        "print(f\"Model Loss: {loss}\")\n",
        "print(f\"Model Accuracy: {accuracy*100}\")"
      ]
    },
    {
      "cell_type": "code",
      "execution_count": null,
      "metadata": {
        "colab": {
          "base_uri": "https://localhost:8080/",
          "height": 944
        },
        "id": "UFOGez_vVyMr",
        "outputId": "ab5ae33a-cfb9-495a-bd29-b2e8e3926d41"
      },
      "outputs": [
        {
          "data": {
            "text/plain": [
              "Text(0, 0.5, 'Loss')"
            ]
          },
          "execution_count": 42,
          "metadata": {},
          "output_type": "execute_result"
        },
        {
          "data": {
            "image/png": "[encoded data removed]",
            "text/plain": [
              "<Figure size 640x480 with 1 Axes>"
            ]
          },
          "metadata": {},
          "output_type": "display_data"
        },
        {
          "data": {
            "image/png": "[encoded data removed]",
            "text/plain": [
              "<Figure size 640x480 with 1 Axes>"
            ]
          },
          "metadata": {},
          "output_type": "display_data"
        }
      ],
      "source": [
        "pd.DataFrame(history.history)\n",
        "\n",
        "pd.DataFrame(history.history)[['accuracy', 'val_accuracy']].plot()\n",
        "plt.title('Training Accuracy')\n",
        "plt.xlabel('Epochs')\n",
        "plt.ylabel('accuracy')\n",
        "\n",
        "pd.DataFrame(history.history)[['loss', 'val_loss']].plot()\n",
        "plt.title('Model Loss')\n",
        "plt.xlabel('Epochs')\n",
        "plt.ylabel('Loss')"
      ]
    },
    {
      "cell_type": "code",
      "execution_count": null,
      "metadata": {
        "colab": {
          "base_uri": "https://localhost:8080/"
        },
        "id": "KbHcTCBcWziO",
        "outputId": "ad4f0ff1-3490-44f4-a716-8bf0e9f30792"
      },
      "outputs": [
        {
          "name": "stdout",
          "output_type": "stream",
          "text": [
            "110/110 [==============================] - 2s 20ms/step\n"
          ]
        }
      ],
      "source": [
        "y_pred_prob = model.predict(test_sequences_matrix)\n",
        "y_pred = (y_pred_prob > 0.5).astype(int)"
      ]
    },
    {
      "cell_type": "code",
      "execution_count": null,
      "metadata": {
        "colab": {
          "base_uri": "https://localhost:8080/"
        },
        "id": "KVo1ojnCWbwl",
        "outputId": "e23813d5-47b7-450c-db25-01f0735fab50"
      },
      "outputs": [
        {
          "name": "stdout",
          "output_type": "stream",
          "text": [
            "              precision    recall  f1-score   support\n",
            "\n",
            "           0       0.94      0.96      0.95      1324\n",
            "           1       0.98      0.96      0.97      2184\n",
            "\n",
            "    accuracy                           0.96      3508\n",
            "   macro avg       0.96      0.96      0.96      3508\n",
            "weighted avg       0.96      0.96      0.96      3508\n",
            "\n"
          ]
        }
      ],
      "source": [
        "report = classification_report(y_true = y_test, y_pred=y_pred)\n",
        "print(report)"
      ]
    }
  ],
  "metadata": {
    "accelerator": "GPU",
    "colab": {
      "gpuType": "T4",
      "provenance": []
    },
    "kernelspec": {
      "display_name": "Python 3",
      "name": "python3"
    },
    "language_info": {
      "codemirror_mode": {
        "name": "ipython",
        "version": 3
      },
      "file_extension": ".py",
      "mimetype": "text/x-python",
      "name": "python",
      "nbconvert_exporter": "python",
      "pygments_lexer": "ipython3",
      "version": "3.11.6"
    }
  },
  "nbformat": 4,
  "nbformat_minor": 0
}
